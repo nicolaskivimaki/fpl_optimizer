{
 "cells": [
  {
   "cell_type": "code",
   "execution_count": 46,
   "id": "59b3ffbb-13bb-4926-ae1d-b0035f54fdc4",
   "metadata": {},
   "outputs": [],
   "source": [
    "import pandas as pd\n",
    "import requests\n",
    "from itertools import combinations"
   ]
  },
  {
   "cell_type": "code",
   "execution_count": 47,
   "id": "57aa3657",
   "metadata": {
    "scrolled": true
   },
   "outputs": [
    {
     "name": "stdout",
     "output_type": "stream",
     "text": [
      "Succesfully fetched data!\n"
     ]
    }
   ],
   "source": [
    "api_url = 'https://fantasy.premierleague.com/api/bootstrap-static/'\n",
    "\n",
    "response = requests.get(api_url)\n",
    "\n",
    "if response.status_code == 200:\n",
    "    data = response.json()\n",
    "    print(\"Succesfully fetched data!\")\n",
    "else:\n",
    "    print(f\"Error while fetching data. Status code: {response.status_code}\")"
   ]
  },
  {
   "cell_type": "code",
   "execution_count": 48,
   "id": "5f0f981a",
   "metadata": {},
   "outputs": [
    {
     "name": "stdout",
     "output_type": "stream",
     "text": [
      "dict_keys(['chips', 'events', 'game_settings', 'game_config', 'phases', 'teams', 'total_players', 'elements', 'element_stats', 'element_types'])\n"
     ]
    }
   ],
   "source": [
    "print(data.keys())"
   ]
  },
  {
   "cell_type": "code",
   "execution_count": 49,
   "id": "49bb9252",
   "metadata": {
    "scrolled": true
   },
   "outputs": [
    {
     "data": {
      "text/html": [
       "<div>\n",
       "<style scoped>\n",
       "    .dataframe tbody tr th:only-of-type {\n",
       "        vertical-align: middle;\n",
       "    }\n",
       "\n",
       "    .dataframe tbody tr th {\n",
       "        vertical-align: top;\n",
       "    }\n",
       "\n",
       "    .dataframe thead th {\n",
       "        text-align: right;\n",
       "    }\n",
       "</style>\n",
       "<table border=\"1\" class=\"dataframe\">\n",
       "  <thead>\n",
       "    <tr style=\"text-align: right;\">\n",
       "      <th></th>\n",
       "      <th>can_transact</th>\n",
       "      <th>can_select</th>\n",
       "      <th>chance_of_playing_next_round</th>\n",
       "      <th>chance_of_playing_this_round</th>\n",
       "      <th>code</th>\n",
       "      <th>cost_change_event</th>\n",
       "      <th>cost_change_event_fall</th>\n",
       "      <th>cost_change_start</th>\n",
       "      <th>cost_change_start_fall</th>\n",
       "      <th>dreamteam_count</th>\n",
       "      <th>...</th>\n",
       "      <th>now_cost_rank</th>\n",
       "      <th>now_cost_rank_type</th>\n",
       "      <th>form_rank</th>\n",
       "      <th>form_rank_type</th>\n",
       "      <th>points_per_game_rank</th>\n",
       "      <th>points_per_game_rank_type</th>\n",
       "      <th>selected_rank</th>\n",
       "      <th>selected_rank_type</th>\n",
       "      <th>starts_per_90</th>\n",
       "      <th>clean_sheets_per_90</th>\n",
       "    </tr>\n",
       "  </thead>\n",
       "  <tbody>\n",
       "    <tr>\n",
       "      <th>0</th>\n",
       "      <td>True</td>\n",
       "      <td>False</td>\n",
       "      <td>0.0</td>\n",
       "      <td>0.0</td>\n",
       "      <td>438098</td>\n",
       "      <td>0</td>\n",
       "      <td>0</td>\n",
       "      <td>-1</td>\n",
       "      <td>1</td>\n",
       "      <td>0</td>\n",
       "      <td>...</td>\n",
       "      <td>137</td>\n",
       "      <td>82</td>\n",
       "      <td>674</td>\n",
       "      <td>304</td>\n",
       "      <td>682</td>\n",
       "      <td>310</td>\n",
       "      <td>636</td>\n",
       "      <td>278</td>\n",
       "      <td>0.00</td>\n",
       "      <td>0.00</td>\n",
       "    </tr>\n",
       "    <tr>\n",
       "      <th>1</th>\n",
       "      <td>True</td>\n",
       "      <td>True</td>\n",
       "      <td>100.0</td>\n",
       "      <td>100.0</td>\n",
       "      <td>205651</td>\n",
       "      <td>0</td>\n",
       "      <td>0</td>\n",
       "      <td>-2</td>\n",
       "      <td>2</td>\n",
       "      <td>0</td>\n",
       "      <td>...</td>\n",
       "      <td>32</td>\n",
       "      <td>15</td>\n",
       "      <td>303</td>\n",
       "      <td>38</td>\n",
       "      <td>459</td>\n",
       "      <td>49</td>\n",
       "      <td>214</td>\n",
       "      <td>37</td>\n",
       "      <td>0.74</td>\n",
       "      <td>0.37</td>\n",
       "    </tr>\n",
       "    <tr>\n",
       "      <th>2</th>\n",
       "      <td>True</td>\n",
       "      <td>True</td>\n",
       "      <td>75.0</td>\n",
       "      <td>75.0</td>\n",
       "      <td>226597</td>\n",
       "      <td>0</td>\n",
       "      <td>0</td>\n",
       "      <td>2</td>\n",
       "      <td>-2</td>\n",
       "      <td>2</td>\n",
       "      <td>...</td>\n",
       "      <td>66</td>\n",
       "      <td>3</td>\n",
       "      <td>76</td>\n",
       "      <td>17</td>\n",
       "      <td>31</td>\n",
       "      <td>4</td>\n",
       "      <td>13</td>\n",
       "      <td>5</td>\n",
       "      <td>1.08</td>\n",
       "      <td>0.33</td>\n",
       "    </tr>\n",
       "    <tr>\n",
       "      <th>3</th>\n",
       "      <td>True</td>\n",
       "      <td>True</td>\n",
       "      <td>100.0</td>\n",
       "      <td>100.0</td>\n",
       "      <td>219847</td>\n",
       "      <td>0</td>\n",
       "      <td>0</td>\n",
       "      <td>-1</td>\n",
       "      <td>1</td>\n",
       "      <td>1</td>\n",
       "      <td>...</td>\n",
       "      <td>13</td>\n",
       "      <td>5</td>\n",
       "      <td>88</td>\n",
       "      <td>18</td>\n",
       "      <td>37</td>\n",
       "      <td>14</td>\n",
       "      <td>37</td>\n",
       "      <td>10</td>\n",
       "      <td>1.01</td>\n",
       "      <td>0.29</td>\n",
       "    </tr>\n",
       "    <tr>\n",
       "      <th>4</th>\n",
       "      <td>True</td>\n",
       "      <td>False</td>\n",
       "      <td>0.0</td>\n",
       "      <td>0.0</td>\n",
       "      <td>463748</td>\n",
       "      <td>0</td>\n",
       "      <td>0</td>\n",
       "      <td>0</td>\n",
       "      <td>0</td>\n",
       "      <td>0</td>\n",
       "      <td>...</td>\n",
       "      <td>638</td>\n",
       "      <td>63</td>\n",
       "      <td>425</td>\n",
       "      <td>51</td>\n",
       "      <td>514</td>\n",
       "      <td>58</td>\n",
       "      <td>558</td>\n",
       "      <td>68</td>\n",
       "      <td>0.00</td>\n",
       "      <td>0.00</td>\n",
       "    </tr>\n",
       "  </tbody>\n",
       "</table>\n",
       "<p>5 rows × 92 columns</p>\n",
       "</div>"
      ],
      "text/plain": [
       "   can_transact  can_select  chance_of_playing_next_round  \\\n",
       "0          True       False                           0.0   \n",
       "1          True        True                         100.0   \n",
       "2          True        True                          75.0   \n",
       "3          True        True                         100.0   \n",
       "4          True       False                           0.0   \n",
       "\n",
       "   chance_of_playing_this_round    code  cost_change_event  \\\n",
       "0                           0.0  438098                  0   \n",
       "1                         100.0  205651                  0   \n",
       "2                          75.0  226597                  0   \n",
       "3                         100.0  219847                  0   \n",
       "4                           0.0  463748                  0   \n",
       "\n",
       "   cost_change_event_fall  cost_change_start  cost_change_start_fall  \\\n",
       "0                       0                 -1                       1   \n",
       "1                       0                 -2                       2   \n",
       "2                       0                  2                      -2   \n",
       "3                       0                 -1                       1   \n",
       "4                       0                  0                       0   \n",
       "\n",
       "   dreamteam_count  ...  now_cost_rank now_cost_rank_type form_rank  \\\n",
       "0                0  ...            137                 82       674   \n",
       "1                0  ...             32                 15       303   \n",
       "2                2  ...             66                  3        76   \n",
       "3                1  ...             13                  5        88   \n",
       "4                0  ...            638                 63       425   \n",
       "\n",
       "   form_rank_type points_per_game_rank points_per_game_rank_type  \\\n",
       "0             304                  682                       310   \n",
       "1              38                  459                        49   \n",
       "2              17                   31                         4   \n",
       "3              18                   37                        14   \n",
       "4              51                  514                        58   \n",
       "\n",
       "   selected_rank  selected_rank_type starts_per_90 clean_sheets_per_90  \n",
       "0            636                 278          0.00                0.00  \n",
       "1            214                  37          0.74                0.37  \n",
       "2             13                   5          1.08                0.33  \n",
       "3             37                  10          1.01                0.29  \n",
       "4            558                  68          0.00                0.00  \n",
       "\n",
       "[5 rows x 92 columns]"
      ]
     },
     "execution_count": 49,
     "metadata": {},
     "output_type": "execute_result"
    }
   ],
   "source": [
    "players = pd.DataFrame(data['elements'])\n",
    "players.head()"
   ]
  },
  {
   "cell_type": "code",
   "execution_count": 50,
   "id": "47c0c1bf",
   "metadata": {},
   "outputs": [
    {
     "name": "stdout",
     "output_type": "stream",
     "text": [
      "Players DataFrame Columns:\n",
      "['can_transact', 'can_select', 'chance_of_playing_next_round', 'chance_of_playing_this_round', 'code', 'cost_change_event', 'cost_change_event_fall', 'cost_change_start', 'cost_change_start_fall', 'dreamteam_count', 'element_type', 'ep_next', 'ep_this', 'event_points', 'first_name', 'form', 'id', 'in_dreamteam', 'news', 'news_added', 'now_cost', 'photo', 'points_per_game', 'removed', 'second_name', 'selected_by_percent', 'special', 'squad_number', 'status', 'team', 'team_code', 'total_points', 'transfers_in', 'transfers_in_event', 'transfers_out', 'transfers_out_event', 'value_form', 'value_season', 'web_name', 'region', 'minutes', 'goals_scored', 'assists', 'clean_sheets', 'goals_conceded', 'own_goals', 'penalties_saved', 'penalties_missed', 'yellow_cards', 'red_cards', 'saves', 'bonus', 'bps', 'influence', 'creativity', 'threat', 'ict_index', 'starts', 'expected_goals', 'expected_assists', 'expected_goal_involvements', 'expected_goals_conceded', 'influence_rank', 'influence_rank_type', 'creativity_rank', 'creativity_rank_type', 'threat_rank', 'threat_rank_type', 'ict_index_rank', 'ict_index_rank_type', 'corners_and_indirect_freekicks_order', 'corners_and_indirect_freekicks_text', 'direct_freekicks_order', 'direct_freekicks_text', 'penalties_order', 'penalties_text', 'expected_goals_per_90', 'saves_per_90', 'expected_assists_per_90', 'expected_goal_involvements_per_90', 'expected_goals_conceded_per_90', 'goals_conceded_per_90', 'now_cost_rank', 'now_cost_rank_type', 'form_rank', 'form_rank_type', 'points_per_game_rank', 'points_per_game_rank_type', 'selected_rank', 'selected_rank_type', 'starts_per_90', 'clean_sheets_per_90']\n"
     ]
    }
   ],
   "source": [
    "print(\"Players DataFrame Columns:\")\n",
    "print(players.columns.tolist())\n"
   ]
  },
  {
   "cell_type": "code",
   "execution_count": 51,
   "id": "e515d76a",
   "metadata": {},
   "outputs": [
    {
     "name": "stdout",
     "output_type": "stream",
     "text": [
      "         first_name             second_name  team_code element_type  \\\n",
      "1           Gabriel       Fernando de Jesus          3      Forward   \n",
      "2           Gabriel    dos Santos Magalhães          3     Defender   \n",
      "3               Kai                 Havertz          3      Forward   \n",
      "5           Jurriën                  Timber          3     Defender   \n",
      "6        Jorge Luiz            Frello Filho          3   Midfielder   \n",
      "..              ...                     ...        ...          ...   \n",
      "686          Jørgen           Strand Larsen         39      Forward   \n",
      "687    Toti António                   Gomes         39     Defender   \n",
      "689           André  Trindade da Costa Neto         39   Midfielder   \n",
      "690  Carlos Roberto            Forbs Borges         39   Midfielder   \n",
      "691           Alfie                    Pond         39     Defender   \n",
      "\n",
      "     total_points  points_per_game  now_cost                     full_name  \n",
      "1               9              0.8       6.8     Gabriel Fernando de Jesus  \n",
      "2              60              4.6       6.2  Gabriel dos Santos Magalhães  \n",
      "3              59              4.2       7.9                   Kai Havertz  \n",
      "5              47              3.6       5.7                Jurriën Timber  \n",
      "6               9              1.3       4.7       Jorge Luiz Frello Filho  \n",
      "..            ...              ...       ...                           ...  \n",
      "686            65              4.3       5.6          Jørgen Strand Larsen  \n",
      "687            19              1.5       4.3            Toti António Gomes  \n",
      "689            16              1.5       5.0  André Trindade da Costa Neto  \n",
      "690             5              0.8       5.5   Carlos Roberto Forbs Borges  \n",
      "691             1              1.0       3.9                    Alfie Pond  \n",
      "\n",
      "[474 rows x 8 columns]\n"
     ]
    }
   ],
   "source": [
    "position_map = {\n",
    "    1: 'GK',\n",
    "    2: 'Defender',\n",
    "    3: 'Midfielder',\n",
    "    4: 'Forward'\n",
    "}\n",
    "\n",
    "players_selected = players[\n",
    "    ['first_name', 'second_name', 'team_code', 'element_type', 'total_points', 'points_per_game', 'now_cost']\n",
    "].copy()\n",
    "\n",
    "players_selected['now_cost'] = players_selected['now_cost'] / 10\n",
    "\n",
    "players_selected['element_type'] = players_selected['element_type'].map(position_map)\n",
    "\n",
    "players_selected[['total_points', 'points_per_game', 'now_cost']] = players_selected[\n",
    "    ['total_points', 'points_per_game', 'now_cost']\n",
    "].apply(pd.to_numeric, errors='coerce')\n",
    "\n",
    "players_selected = players_selected.loc[players_selected['points_per_game'] > 0.0]\n",
    "\n",
    "players_selected['full_name'] = players_selected['first_name'] + ' ' + players_selected['second_name']\n",
    "\n",
    "print(players_selected)\n"
   ]
  },
  {
   "cell_type": "code",
   "execution_count": 52,
   "id": "a15287fa",
   "metadata": {},
   "outputs": [
    {
     "name": "stdout",
     "output_type": "stream",
     "text": [
      "    first_name second_name  team_code element_type  total_points  \\\n",
      "401    Mohamed       Salah         14   Midfielder           151   \n",
      "401    Mohamed       Salah         14   Midfielder           151   \n",
      "428     Erling     Haaland         43      Forward            98   \n",
      "\n",
      "     points_per_game  now_cost       full_name  \n",
      "401             10.8      13.3   Mohamed Salah  \n",
      "401             10.8      13.3   Mohamed Salah  \n",
      "428              6.5      14.9  Erling Haaland  \n"
     ]
    }
   ],
   "source": [
    "max_indeces = players_selected[['total_points', 'points_per_game', 'now_cost']].idxmax()\n",
    "max_rows = players_selected.loc[max_indeces]\n",
    "print(max_rows)\n"
   ]
  },
  {
   "cell_type": "code",
   "execution_count": 53,
   "id": "a7343ff5",
   "metadata": {},
   "outputs": [
    {
     "data": {
      "text/html": [
       "<div>\n",
       "<style scoped>\n",
       "    .dataframe tbody tr th:only-of-type {\n",
       "        vertical-align: middle;\n",
       "    }\n",
       "\n",
       "    .dataframe tbody tr th {\n",
       "        vertical-align: top;\n",
       "    }\n",
       "\n",
       "    .dataframe thead th {\n",
       "        text-align: right;\n",
       "    }\n",
       "</style>\n",
       "<table border=\"1\" class=\"dataframe\">\n",
       "  <thead>\n",
       "    <tr style=\"text-align: right;\">\n",
       "      <th></th>\n",
       "      <th>first_name</th>\n",
       "      <th>second_name</th>\n",
       "      <th>team_code</th>\n",
       "      <th>element_type</th>\n",
       "      <th>total_points</th>\n",
       "      <th>points_per_game</th>\n",
       "      <th>now_cost</th>\n",
       "      <th>full_name</th>\n",
       "    </tr>\n",
       "  </thead>\n",
       "  <tbody>\n",
       "    <tr>\n",
       "      <th>1</th>\n",
       "      <td>Gabriel</td>\n",
       "      <td>Fernando de Jesus</td>\n",
       "      <td>3</td>\n",
       "      <td>Forward</td>\n",
       "      <td>9</td>\n",
       "      <td>0.8</td>\n",
       "      <td>6.8</td>\n",
       "      <td>Gabriel Fernando de Jesus</td>\n",
       "    </tr>\n",
       "    <tr>\n",
       "      <th>3</th>\n",
       "      <td>Kai</td>\n",
       "      <td>Havertz</td>\n",
       "      <td>3</td>\n",
       "      <td>Forward</td>\n",
       "      <td>59</td>\n",
       "      <td>4.2</td>\n",
       "      <td>7.9</td>\n",
       "      <td>Kai Havertz</td>\n",
       "    </tr>\n",
       "    <tr>\n",
       "      <th>43</th>\n",
       "      <td>Jhon</td>\n",
       "      <td>Durán</td>\n",
       "      <td>7</td>\n",
       "      <td>Forward</td>\n",
       "      <td>41</td>\n",
       "      <td>2.7</td>\n",
       "      <td>5.8</td>\n",
       "      <td>Jhon Durán</td>\n",
       "    </tr>\n",
       "    <tr>\n",
       "      <th>63</th>\n",
       "      <td>Ollie</td>\n",
       "      <td>Watkins</td>\n",
       "      <td>7</td>\n",
       "      <td>Forward</td>\n",
       "      <td>77</td>\n",
       "      <td>5.1</td>\n",
       "      <td>9.0</td>\n",
       "      <td>Ollie Watkins</td>\n",
       "    </tr>\n",
       "    <tr>\n",
       "      <th>77</th>\n",
       "      <td>Enes</td>\n",
       "      <td>Ünal</td>\n",
       "      <td>91</td>\n",
       "      <td>Forward</td>\n",
       "      <td>20</td>\n",
       "      <td>1.7</td>\n",
       "      <td>5.4</td>\n",
       "      <td>Enes Ünal</td>\n",
       "    </tr>\n",
       "  </tbody>\n",
       "</table>\n",
       "</div>"
      ],
      "text/plain": [
       "   first_name        second_name  team_code element_type  total_points  \\\n",
       "1     Gabriel  Fernando de Jesus          3      Forward             9   \n",
       "3         Kai            Havertz          3      Forward            59   \n",
       "43       Jhon              Durán          7      Forward            41   \n",
       "63      Ollie            Watkins          7      Forward            77   \n",
       "77       Enes               Ünal         91      Forward            20   \n",
       "\n",
       "    points_per_game  now_cost                  full_name  \n",
       "1               0.8       6.8  Gabriel Fernando de Jesus  \n",
       "3               4.2       7.9                Kai Havertz  \n",
       "43              2.7       5.8                 Jhon Durán  \n",
       "63              5.1       9.0              Ollie Watkins  \n",
       "77              1.7       5.4                  Enes Ünal  "
      ]
     },
     "execution_count": 53,
     "metadata": {},
     "output_type": "execute_result"
    }
   ],
   "source": [
    "forwards = players_selected[players_selected['element_type'] == 'Forward']\n",
    "\n",
    "forwards.head()"
   ]
  },
  {
   "cell_type": "code",
   "execution_count": 54,
   "id": "685f2fab",
   "metadata": {},
   "outputs": [
    {
     "name": "stdout",
     "output_type": "stream",
     "text": [
      "Total GK's: 51\n"
     ]
    }
   ],
   "source": [
    "print(f\"Total GK's: {len(forwards)}\")"
   ]
  },
  {
   "cell_type": "code",
   "execution_count": 55,
   "id": "d915e905",
   "metadata": {},
   "outputs": [
    {
     "name": "stdout",
     "output_type": "stream",
     "text": [
      "    first_name second_name  team_code element_type  total_points  \\\n",
      "209       Marc    Guiu Paz          8      Forward             1   \n",
      "318        Ali   Al-Hamadi         40      Forward             4   \n",
      "574       Ross     Stewart         20      Forward             3   \n",
      "\n",
      "     points_per_game  now_cost      full_name  \n",
      "209              1.0       4.7  Marc Guiu Paz  \n",
      "318              0.7       4.8  Ali Al-Hamadi  \n",
      "574              0.8       4.4   Ross Stewart  \n"
     ]
    }
   ],
   "source": [
    "min_indeces = forwards[['total_points', 'points_per_game', 'now_cost']].idxmin()\n",
    "min_rows = forwards.loc[min_indeces]\n",
    "print(min_rows)\n"
   ]
  },
  {
   "cell_type": "code",
   "execution_count": 58,
   "id": "0eaeacfb",
   "metadata": {},
   "outputs": [
    {
     "name": "stdout",
     "output_type": "stream",
     "text": [
      "20825\n",
      "Total points: 266\n",
      "Total cost: 29.6 \n",
      "\n",
      "Cost/point: 0.11127819548872181 \n",
      "\n",
      "Player: Nicolas Jackson - Forward - Team Code: 8 - Total points: 80 - Cost: £8.2m\n",
      "Player: Erling Haaland - Forward - Team Code: 43 - Total points: 98 - Cost: £14.9m\n",
      "Player: Chris Wood - Forward - Team Code: 17 - Total points: 88 - Cost: £6.5m\n"
     ]
    }
   ],
   "source": [
    "# Generate all combinations of 3 forwards\n",
    "forward_combinations = list(combinations(forwards.itertuples(), 3))\n",
    "\n",
    "print(len(forward_combinations))\n",
    "\n",
    "optimal_forwards = None\n",
    "best_total_points = 0\n",
    "best_comb_cost = 0\n",
    "max_cost = 30\n",
    "\n",
    "for player1, player2, player3 in forward_combinations:\n",
    "    total_cost = player1.now_cost + player2.now_cost + player3.now_cost\n",
    "    if total_cost > max_cost:\n",
    "        continue\n",
    "\n",
    "    total_points = player1.total_points + player2.total_points + player3.total_points\n",
    "\n",
    "    if total_points > best_total_points:\n",
    "        best_total_points = total_points\n",
    "        best_comb_cost = total_cost\n",
    "        optimal_forwards = (player1, player2, player3)\n",
    "\n",
    "\n",
    "# Unpack and print the results\n",
    "print(f\"Total points: {best_total_points}\")\n",
    "print(f\"Total cost: {best_comb_cost} \\n\")\n",
    "print(f\"Cost/point: {best_comb_cost / best_total_points} \\n\")\n",
    "\n",
    "for player in optimal_forwards:\n",
    "    print(f\"Player: {player.first_name} {player.second_name} - {player.element_type} - Team Code: {player.team_code} - Total points: {player.total_points} - Cost: £{player.now_cost}m\")\n"
   ]
  },
  {
   "cell_type": "code",
   "execution_count": null,
   "id": "a7716a86",
   "metadata": {},
   "outputs": [],
   "source": [
    "\n"
   ]
  }
 ],
 "metadata": {
  "interpreter": {
   "hash": "cf187eeb89af9fe6e5d94e2ab15d2b6b0f1556c135ded618a2bc561c30d23079"
  },
  "kernelspec": {
   "display_name": "Python (fpl)",
   "language": "python",
   "name": "python3"
  },
  "language_info": {
   "codemirror_mode": {
    "name": "ipython",
    "version": 3
   },
   "file_extension": ".py",
   "mimetype": "text/x-python",
   "name": "python",
   "nbconvert_exporter": "python",
   "pygments_lexer": "ipython3",
   "version": "3.9.9"
  }
 },
 "nbformat": 4,
 "nbformat_minor": 5
}
