{
 "cells": [
  {
   "cell_type": "code",
   "execution_count": 13,
   "id": "59b3ffbb-13bb-4926-ae1d-b0035f54fdc4",
   "metadata": {},
   "outputs": [],
   "source": [
    "import pandas as pd\n",
    "import requests\n",
    "from itertools import combinations"
   ]
  },
  {
   "cell_type": "code",
   "execution_count": 14,
   "id": "57aa3657",
   "metadata": {
    "scrolled": true
   },
   "outputs": [
    {
     "name": "stdout",
     "output_type": "stream",
     "text": [
      "Succesfully fetched data!\n"
     ]
    }
   ],
   "source": [
    "api_url = 'https://fantasy.premierleague.com/api/bootstrap-static/'\n",
    "\n",
    "response = requests.get(api_url)\n",
    "\n",
    "if response.status_code == 200:\n",
    "    data = response.json()\n",
    "    print(\"Succesfully fetched data!\")\n",
    "else:\n",
    "    print(f\"Error while fetching data. Status code: {response.status_code}\")"
   ]
  },
  {
   "cell_type": "code",
   "execution_count": 15,
   "id": "5f0f981a",
   "metadata": {},
   "outputs": [
    {
     "name": "stdout",
     "output_type": "stream",
     "text": [
      "dict_keys(['chips', 'events', 'game_settings', 'game_config', 'phases', 'teams', 'total_players', 'elements', 'element_stats', 'element_types'])\n"
     ]
    }
   ],
   "source": [
    "print(data.keys())"
   ]
  },
  {
   "cell_type": "code",
   "execution_count": 16,
   "id": "49bb9252",
   "metadata": {
    "scrolled": true
   },
   "outputs": [
    {
     "data": {
      "text/html": [
       "<div>\n",
       "<style scoped>\n",
       "    .dataframe tbody tr th:only-of-type {\n",
       "        vertical-align: middle;\n",
       "    }\n",
       "\n",
       "    .dataframe tbody tr th {\n",
       "        vertical-align: top;\n",
       "    }\n",
       "\n",
       "    .dataframe thead th {\n",
       "        text-align: right;\n",
       "    }\n",
       "</style>\n",
       "<table border=\"1\" class=\"dataframe\">\n",
       "  <thead>\n",
       "    <tr style=\"text-align: right;\">\n",
       "      <th></th>\n",
       "      <th>can_transact</th>\n",
       "      <th>can_select</th>\n",
       "      <th>chance_of_playing_next_round</th>\n",
       "      <th>chance_of_playing_this_round</th>\n",
       "      <th>code</th>\n",
       "      <th>cost_change_event</th>\n",
       "      <th>cost_change_event_fall</th>\n",
       "      <th>cost_change_start</th>\n",
       "      <th>cost_change_start_fall</th>\n",
       "      <th>dreamteam_count</th>\n",
       "      <th>...</th>\n",
       "      <th>now_cost_rank</th>\n",
       "      <th>now_cost_rank_type</th>\n",
       "      <th>form_rank</th>\n",
       "      <th>form_rank_type</th>\n",
       "      <th>points_per_game_rank</th>\n",
       "      <th>points_per_game_rank_type</th>\n",
       "      <th>selected_rank</th>\n",
       "      <th>selected_rank_type</th>\n",
       "      <th>starts_per_90</th>\n",
       "      <th>clean_sheets_per_90</th>\n",
       "    </tr>\n",
       "  </thead>\n",
       "  <tbody>\n",
       "    <tr>\n",
       "      <th>0</th>\n",
       "      <td>True</td>\n",
       "      <td>False</td>\n",
       "      <td>0.0</td>\n",
       "      <td>0.0</td>\n",
       "      <td>438098</td>\n",
       "      <td>0</td>\n",
       "      <td>0</td>\n",
       "      <td>-1</td>\n",
       "      <td>1</td>\n",
       "      <td>0</td>\n",
       "      <td>...</td>\n",
       "      <td>137</td>\n",
       "      <td>82</td>\n",
       "      <td>674</td>\n",
       "      <td>304</td>\n",
       "      <td>682</td>\n",
       "      <td>310</td>\n",
       "      <td>636</td>\n",
       "      <td>278</td>\n",
       "      <td>0.00</td>\n",
       "      <td>0.00</td>\n",
       "    </tr>\n",
       "    <tr>\n",
       "      <th>1</th>\n",
       "      <td>True</td>\n",
       "      <td>True</td>\n",
       "      <td>100.0</td>\n",
       "      <td>100.0</td>\n",
       "      <td>205651</td>\n",
       "      <td>0</td>\n",
       "      <td>0</td>\n",
       "      <td>-2</td>\n",
       "      <td>2</td>\n",
       "      <td>0</td>\n",
       "      <td>...</td>\n",
       "      <td>32</td>\n",
       "      <td>15</td>\n",
       "      <td>303</td>\n",
       "      <td>38</td>\n",
       "      <td>459</td>\n",
       "      <td>49</td>\n",
       "      <td>213</td>\n",
       "      <td>37</td>\n",
       "      <td>0.74</td>\n",
       "      <td>0.37</td>\n",
       "    </tr>\n",
       "    <tr>\n",
       "      <th>2</th>\n",
       "      <td>True</td>\n",
       "      <td>True</td>\n",
       "      <td>75.0</td>\n",
       "      <td>75.0</td>\n",
       "      <td>226597</td>\n",
       "      <td>0</td>\n",
       "      <td>0</td>\n",
       "      <td>2</td>\n",
       "      <td>-2</td>\n",
       "      <td>2</td>\n",
       "      <td>...</td>\n",
       "      <td>66</td>\n",
       "      <td>3</td>\n",
       "      <td>76</td>\n",
       "      <td>17</td>\n",
       "      <td>31</td>\n",
       "      <td>4</td>\n",
       "      <td>13</td>\n",
       "      <td>5</td>\n",
       "      <td>1.08</td>\n",
       "      <td>0.33</td>\n",
       "    </tr>\n",
       "    <tr>\n",
       "      <th>3</th>\n",
       "      <td>True</td>\n",
       "      <td>True</td>\n",
       "      <td>100.0</td>\n",
       "      <td>100.0</td>\n",
       "      <td>219847</td>\n",
       "      <td>0</td>\n",
       "      <td>0</td>\n",
       "      <td>-1</td>\n",
       "      <td>1</td>\n",
       "      <td>1</td>\n",
       "      <td>...</td>\n",
       "      <td>13</td>\n",
       "      <td>5</td>\n",
       "      <td>88</td>\n",
       "      <td>18</td>\n",
       "      <td>37</td>\n",
       "      <td>14</td>\n",
       "      <td>37</td>\n",
       "      <td>10</td>\n",
       "      <td>1.01</td>\n",
       "      <td>0.29</td>\n",
       "    </tr>\n",
       "    <tr>\n",
       "      <th>4</th>\n",
       "      <td>True</td>\n",
       "      <td>False</td>\n",
       "      <td>0.0</td>\n",
       "      <td>0.0</td>\n",
       "      <td>463748</td>\n",
       "      <td>0</td>\n",
       "      <td>0</td>\n",
       "      <td>0</td>\n",
       "      <td>0</td>\n",
       "      <td>0</td>\n",
       "      <td>...</td>\n",
       "      <td>638</td>\n",
       "      <td>63</td>\n",
       "      <td>425</td>\n",
       "      <td>51</td>\n",
       "      <td>514</td>\n",
       "      <td>58</td>\n",
       "      <td>558</td>\n",
       "      <td>68</td>\n",
       "      <td>0.00</td>\n",
       "      <td>0.00</td>\n",
       "    </tr>\n",
       "  </tbody>\n",
       "</table>\n",
       "<p>5 rows × 92 columns</p>\n",
       "</div>"
      ],
      "text/plain": [
       "   can_transact  can_select  chance_of_playing_next_round  \\\n",
       "0          True       False                           0.0   \n",
       "1          True        True                         100.0   \n",
       "2          True        True                          75.0   \n",
       "3          True        True                         100.0   \n",
       "4          True       False                           0.0   \n",
       "\n",
       "   chance_of_playing_this_round    code  cost_change_event  \\\n",
       "0                           0.0  438098                  0   \n",
       "1                         100.0  205651                  0   \n",
       "2                          75.0  226597                  0   \n",
       "3                         100.0  219847                  0   \n",
       "4                           0.0  463748                  0   \n",
       "\n",
       "   cost_change_event_fall  cost_change_start  cost_change_start_fall  \\\n",
       "0                       0                 -1                       1   \n",
       "1                       0                 -2                       2   \n",
       "2                       0                  2                      -2   \n",
       "3                       0                 -1                       1   \n",
       "4                       0                  0                       0   \n",
       "\n",
       "   dreamteam_count  ...  now_cost_rank now_cost_rank_type form_rank  \\\n",
       "0                0  ...            137                 82       674   \n",
       "1                0  ...             32                 15       303   \n",
       "2                2  ...             66                  3        76   \n",
       "3                1  ...             13                  5        88   \n",
       "4                0  ...            638                 63       425   \n",
       "\n",
       "   form_rank_type points_per_game_rank points_per_game_rank_type  \\\n",
       "0             304                  682                       310   \n",
       "1              38                  459                        49   \n",
       "2              17                   31                         4   \n",
       "3              18                   37                        14   \n",
       "4              51                  514                        58   \n",
       "\n",
       "   selected_rank  selected_rank_type starts_per_90 clean_sheets_per_90  \n",
       "0            636                 278          0.00                0.00  \n",
       "1            213                  37          0.74                0.37  \n",
       "2             13                   5          1.08                0.33  \n",
       "3             37                  10          1.01                0.29  \n",
       "4            558                  68          0.00                0.00  \n",
       "\n",
       "[5 rows x 92 columns]"
      ]
     },
     "execution_count": 16,
     "metadata": {},
     "output_type": "execute_result"
    }
   ],
   "source": [
    "players = pd.DataFrame(data['elements'])\n",
    "players.head()"
   ]
  },
  {
   "cell_type": "code",
   "execution_count": 17,
   "id": "47c0c1bf",
   "metadata": {},
   "outputs": [
    {
     "name": "stdout",
     "output_type": "stream",
     "text": [
      "Players DataFrame Columns:\n",
      "['can_transact', 'can_select', 'chance_of_playing_next_round', 'chance_of_playing_this_round', 'code', 'cost_change_event', 'cost_change_event_fall', 'cost_change_start', 'cost_change_start_fall', 'dreamteam_count', 'element_type', 'ep_next', 'ep_this', 'event_points', 'first_name', 'form', 'id', 'in_dreamteam', 'news', 'news_added', 'now_cost', 'photo', 'points_per_game', 'removed', 'second_name', 'selected_by_percent', 'special', 'squad_number', 'status', 'team', 'team_code', 'total_points', 'transfers_in', 'transfers_in_event', 'transfers_out', 'transfers_out_event', 'value_form', 'value_season', 'web_name', 'region', 'minutes', 'goals_scored', 'assists', 'clean_sheets', 'goals_conceded', 'own_goals', 'penalties_saved', 'penalties_missed', 'yellow_cards', 'red_cards', 'saves', 'bonus', 'bps', 'influence', 'creativity', 'threat', 'ict_index', 'starts', 'expected_goals', 'expected_assists', 'expected_goal_involvements', 'expected_goals_conceded', 'influence_rank', 'influence_rank_type', 'creativity_rank', 'creativity_rank_type', 'threat_rank', 'threat_rank_type', 'ict_index_rank', 'ict_index_rank_type', 'corners_and_indirect_freekicks_order', 'corners_and_indirect_freekicks_text', 'direct_freekicks_order', 'direct_freekicks_text', 'penalties_order', 'penalties_text', 'expected_goals_per_90', 'saves_per_90', 'expected_assists_per_90', 'expected_goal_involvements_per_90', 'expected_goals_conceded_per_90', 'goals_conceded_per_90', 'now_cost_rank', 'now_cost_rank_type', 'form_rank', 'form_rank_type', 'points_per_game_rank', 'points_per_game_rank_type', 'selected_rank', 'selected_rank_type', 'starts_per_90', 'clean_sheets_per_90']\n"
     ]
    }
   ],
   "source": [
    "print(\"Players DataFrame Columns:\")\n",
    "print(players.columns.tolist())\n"
   ]
  },
  {
   "cell_type": "code",
   "execution_count": 30,
   "id": "e515d76a",
   "metadata": {},
   "outputs": [
    {
     "name": "stdout",
     "output_type": "stream",
     "text": [
      "         first_name             second_name  team_code element_type  \\\n",
      "1           Gabriel       Fernando de Jesus          3      Forward   \n",
      "2           Gabriel    dos Santos Magalhães          3     Defender   \n",
      "3               Kai                 Havertz          3      Forward   \n",
      "5           Jurriën                  Timber          3     Defender   \n",
      "6        Jorge Luiz            Frello Filho          3   Midfielder   \n",
      "..              ...                     ...        ...          ...   \n",
      "686          Jørgen           Strand Larsen         39      Forward   \n",
      "687    Toti António                   Gomes         39     Defender   \n",
      "689           André  Trindade da Costa Neto         39   Midfielder   \n",
      "690  Carlos Roberto            Forbs Borges         39   Midfielder   \n",
      "691           Alfie                    Pond         39     Defender   \n",
      "\n",
      "     total_points  points_per_game  now_cost                     full_name  \\\n",
      "1               9              0.8       6.8     Gabriel Fernando de Jesus   \n",
      "2              60              4.6       6.2  Gabriel dos Santos Magalhães   \n",
      "3              59              4.2       7.9                   Kai Havertz   \n",
      "5              47              3.6       5.7                Jurriën Timber   \n",
      "6               9              1.3       4.7       Jorge Luiz Frello Filho   \n",
      "..            ...              ...       ...                           ...   \n",
      "686            65              4.3       5.6          Jørgen Strand Larsen   \n",
      "687            19              1.5       4.3            Toti António Gomes   \n",
      "689            16              1.5       5.0  André Trindade da Costa Neto   \n",
      "690             5              0.8       5.5   Carlos Roberto Forbs Borges   \n",
      "691             1              1.0       3.9                    Alfie Pond   \n",
      "\n",
      "     Cost/Points  \n",
      "1           0.76  \n",
      "2           0.10  \n",
      "3           0.13  \n",
      "5           0.12  \n",
      "6           0.52  \n",
      "..           ...  \n",
      "686         0.09  \n",
      "687         0.23  \n",
      "689         0.31  \n",
      "690         1.10  \n",
      "691         3.90  \n",
      "\n",
      "[474 rows x 9 columns]\n"
     ]
    }
   ],
   "source": [
    "position_map = {\n",
    "    1: 'GK',\n",
    "    2: 'Defender',\n",
    "    3: 'Midfielder',\n",
    "    4: 'Forward'\n",
    "}\n",
    "\n",
    "price_updates = {\n",
    "    'Mohamed Salah': 13.0,\n",
    "    'Cole Palmer': 10.8,\n",
    "    'Bukayo Saka': 10.4,\n",
    "    'Nicolas Jackson': 7.9, \n",
    "}\n",
    "\n",
    "players_selected = players[\n",
    "    ['first_name', 'second_name', 'team_code', 'element_type', 'total_points', 'points_per_game', 'now_cost']\n",
    "].copy()\n",
    "\n",
    "players_selected['now_cost'] = players_selected['now_cost'] / 10\n",
    "\n",
    "players_selected['element_type'] = players_selected['element_type'].map(position_map)\n",
    "\n",
    "players_selected[['total_points', 'points_per_game', 'now_cost']] = players_selected[\n",
    "    ['total_points', 'points_per_game', 'now_cost']\n",
    "].apply(pd.to_numeric, errors='coerce')\n",
    "\n",
    "players_selected = players_selected.loc[players_selected['points_per_game'] > 0.0]\n",
    "\n",
    "players_selected['full_name'] = players_selected['first_name'] + ' ' + players_selected['second_name']\n",
    "\n",
    "# Remove Bryan Mbeumo's row from the DataFrame\n",
    "#mbeumo_row = players_selected.loc[players_selected['full_name'] == 'Bryan Mbeumo'].copy()\n",
    "#players_selected = players_selected.loc[players_selected['full_name'] != 'Bryan Mbeumo']\n",
    "\n",
    "# Update player prices that have been already selected at a different price\n",
    "for player, new_price in price_updates.items():\n",
    "    players_selected.loc[players_selected['full_name'] == player, 'now_cost'] = new_price\n",
    "\n",
    "players_selected['Cost/Points'] = (players_selected['now_cost'] / players_selected['total_points']).round(2)\n",
    "\n",
    "print(players_selected)\n",
    "\n"
   ]
  },
  {
   "cell_type": "code",
   "execution_count": 31,
   "id": "a15287fa",
   "metadata": {},
   "outputs": [
    {
     "name": "stdout",
     "output_type": "stream",
     "text": [
      "    first_name second_name  team_code element_type  total_points  \\\n",
      "401    Mohamed       Salah         14   Midfielder           151   \n",
      "401    Mohamed       Salah         14   Midfielder           151   \n",
      "428     Erling     Haaland         43      Forward            98   \n",
      "\n",
      "     points_per_game  now_cost       full_name  Cost/Points  \n",
      "401             10.8      13.0   Mohamed Salah         0.09  \n",
      "401             10.8      13.0   Mohamed Salah         0.09  \n",
      "428              6.5      14.9  Erling Haaland         0.15  \n"
     ]
    }
   ],
   "source": [
    "max_indeces = players_selected[['total_points', 'points_per_game', 'now_cost']].idxmax()\n",
    "max_rows = players_selected.loc[max_indeces]\n",
    "print(max_rows)\n"
   ]
  },
  {
   "cell_type": "code",
   "execution_count": 32,
   "id": "a7343ff5",
   "metadata": {},
   "outputs": [
    {
     "data": {
      "text/html": [
       "<div>\n",
       "<style scoped>\n",
       "    .dataframe tbody tr th:only-of-type {\n",
       "        vertical-align: middle;\n",
       "    }\n",
       "\n",
       "    .dataframe tbody tr th {\n",
       "        vertical-align: top;\n",
       "    }\n",
       "\n",
       "    .dataframe thead th {\n",
       "        text-align: right;\n",
       "    }\n",
       "</style>\n",
       "<table border=\"1\" class=\"dataframe\">\n",
       "  <thead>\n",
       "    <tr style=\"text-align: right;\">\n",
       "      <th></th>\n",
       "      <th>first_name</th>\n",
       "      <th>second_name</th>\n",
       "      <th>team_code</th>\n",
       "      <th>element_type</th>\n",
       "      <th>total_points</th>\n",
       "      <th>points_per_game</th>\n",
       "      <th>now_cost</th>\n",
       "      <th>full_name</th>\n",
       "      <th>Cost/Points</th>\n",
       "    </tr>\n",
       "  </thead>\n",
       "  <tbody>\n",
       "    <tr>\n",
       "      <th>682</th>\n",
       "      <td>Daniel</td>\n",
       "      <td>Castelo Podence</td>\n",
       "      <td>39</td>\n",
       "      <td>Midfielder</td>\n",
       "      <td>2</td>\n",
       "      <td>1.0</td>\n",
       "      <td>5.5</td>\n",
       "      <td>Daniel Castelo Podence</td>\n",
       "      <td>2.75</td>\n",
       "    </tr>\n",
       "    <tr>\n",
       "      <th>683</th>\n",
       "      <td>Rodrigo</td>\n",
       "      <td>Martins Gomes</td>\n",
       "      <td>39</td>\n",
       "      <td>Midfielder</td>\n",
       "      <td>11</td>\n",
       "      <td>1.2</td>\n",
       "      <td>5.2</td>\n",
       "      <td>Rodrigo Martins Gomes</td>\n",
       "      <td>0.47</td>\n",
       "    </tr>\n",
       "    <tr>\n",
       "      <th>685</th>\n",
       "      <td>Pablo</td>\n",
       "      <td>Sarabia</td>\n",
       "      <td>39</td>\n",
       "      <td>Midfielder</td>\n",
       "      <td>10</td>\n",
       "      <td>2.2</td>\n",
       "      <td>5.1</td>\n",
       "      <td>Pablo Sarabia</td>\n",
       "      <td>0.51</td>\n",
       "    </tr>\n",
       "    <tr>\n",
       "      <th>689</th>\n",
       "      <td>André</td>\n",
       "      <td>Trindade da Costa Neto</td>\n",
       "      <td>39</td>\n",
       "      <td>Midfielder</td>\n",
       "      <td>16</td>\n",
       "      <td>1.5</td>\n",
       "      <td>5.0</td>\n",
       "      <td>André Trindade da Costa Neto</td>\n",
       "      <td>0.31</td>\n",
       "    </tr>\n",
       "    <tr>\n",
       "      <th>690</th>\n",
       "      <td>Carlos Roberto</td>\n",
       "      <td>Forbs Borges</td>\n",
       "      <td>39</td>\n",
       "      <td>Midfielder</td>\n",
       "      <td>5</td>\n",
       "      <td>0.8</td>\n",
       "      <td>5.5</td>\n",
       "      <td>Carlos Roberto Forbs Borges</td>\n",
       "      <td>1.10</td>\n",
       "    </tr>\n",
       "  </tbody>\n",
       "</table>\n",
       "</div>"
      ],
      "text/plain": [
       "         first_name             second_name  team_code element_type  \\\n",
       "682          Daniel         Castelo Podence         39   Midfielder   \n",
       "683         Rodrigo           Martins Gomes         39   Midfielder   \n",
       "685           Pablo                 Sarabia         39   Midfielder   \n",
       "689           André  Trindade da Costa Neto         39   Midfielder   \n",
       "690  Carlos Roberto            Forbs Borges         39   Midfielder   \n",
       "\n",
       "     total_points  points_per_game  now_cost                     full_name  \\\n",
       "682             2              1.0       5.5        Daniel Castelo Podence   \n",
       "683            11              1.2       5.2         Rodrigo Martins Gomes   \n",
       "685            10              2.2       5.1                 Pablo Sarabia   \n",
       "689            16              1.5       5.0  André Trindade da Costa Neto   \n",
       "690             5              0.8       5.5   Carlos Roberto Forbs Borges   \n",
       "\n",
       "     Cost/Points  \n",
       "682         2.75  \n",
       "683         0.47  \n",
       "685         0.51  \n",
       "689         0.31  \n",
       "690         1.10  "
      ]
     },
     "execution_count": 32,
     "metadata": {},
     "output_type": "execute_result"
    }
   ],
   "source": [
    "midfielders = players_selected[players_selected['element_type'] == 'Midfielder']\n",
    "\n",
    "midfielders.tail()"
   ]
  },
  {
   "cell_type": "code",
   "execution_count": 33,
   "id": "685f2fab",
   "metadata": {},
   "outputs": [
    {
     "name": "stdout",
     "output_type": "stream",
     "text": [
      "Total midfielders: 229\n"
     ]
    }
   ],
   "source": [
    "print(f\"Total midfielders: {len(midfielders)}\")"
   ]
  },
  {
   "cell_type": "code",
   "execution_count": 34,
   "id": "d915e905",
   "metadata": {},
   "outputs": [
    {
     "name": "stdout",
     "output_type": "stream",
     "text": [
      "    first_name   second_name  team_code element_type  total_points  \\\n",
      "24       Myles  Lewis-Skelly          3   Midfielder             1   \n",
      "24       Myles  Lewis-Skelly          3   Midfielder             1   \n",
      "356      Hamza     Choudhury         13   Midfielder             1   \n",
      "\n",
      "     points_per_game  now_cost           full_name  Cost/Points  \n",
      "24               0.5       4.5  Myles Lewis-Skelly          4.5  \n",
      "24               0.5       4.5  Myles Lewis-Skelly          4.5  \n",
      "356              1.0       4.3     Hamza Choudhury          4.3  \n"
     ]
    }
   ],
   "source": [
    "min_indeces = midfielders[['total_points', 'points_per_game', 'now_cost']].idxmin()\n",
    "min_rows = midfielders.loc[min_indeces]\n",
    "print(min_rows)\n"
   ]
  },
  {
   "cell_type": "code",
   "execution_count": 23,
   "id": "0362865c",
   "metadata": {},
   "outputs": [
    {
     "name": "stdout",
     "output_type": "stream",
     "text": [
      "109658025\n"
     ]
    }
   ],
   "source": [
    "# Generate all combinations of 4 midfielders\n",
    "defender_combinations = list(combinations(midfielders.itertuples(), 4))\n",
    "\n",
    "print(len(defender_combinations))"
   ]
  },
  {
   "cell_type": "code",
   "execution_count": 26,
   "id": "cd966808",
   "metadata": {},
   "outputs": [
    {
     "name": "stdout",
     "output_type": "stream",
     "text": [
      "116    7.6\n",
      "Name: now_cost, dtype: float64\n"
     ]
    }
   ],
   "source": [
    "print(mbeumo_row['now_cost'])"
   ]
  },
  {
   "cell_type": "code",
   "execution_count": 28,
   "id": "0eaeacfb",
   "metadata": {},
   "outputs": [
    {
     "name": "stdout",
     "output_type": "stream",
     "text": [
      "Total points: 551\n",
      "Total cost: 47.50000000000001 \n",
      "\n",
      "Cost/point: 0.08620689655172416 \n",
      "\n",
      "Player: Bukayo Saka - Midfielder - Team Code: 3 - Total points: 103 - Cost: £10.4m - Cost / points: 0.10097087378640777m\n",
      "Player: Cole Palmer - Midfielder - Team Code: 8 - Total points: 125 - Cost: £10.8m - Cost / points: 0.0864m\n",
      "Player: Alex Iwobi - Midfielder - Team Code: 54 - Total points: 76 - Cost: £5.7m - Cost / points: 0.075m\n",
      "Player: Mohamed Salah - Midfielder - Team Code: 14 - Total points: 151 - Cost: £13.0m - Cost / points: 0.08609271523178808m\n",
      "Player: Bryan Mbeumo - Midfielder - Team Code: 94 - Total points: 96 - Cost: £7.6m - Cost / points: 0.07916666666666666m\n"
     ]
    }
   ],
   "source": [
    "optimal_midfielders = None\n",
    "best_total_points = 0\n",
    "best_comb_cost = 0\n",
    "best_cpp = 100\n",
    "max_cost = 50\n",
    "\n",
    "for player1, player2, player3, player4 in defender_combinations:\n",
    "    total_cost = player1.now_cost + player2.now_cost + player3.now_cost + player4.now_cost + 7.6\n",
    "    if total_cost > max_cost:\n",
    "        continue\n",
    "\n",
    "    total_points = player1.total_points + player2.total_points + player3.total_points + player4.total_points + 96\n",
    "    cpp = total_cost / total_points\n",
    "\n",
    "    if total_points > best_total_points:\n",
    "        best_cpp = cpp\n",
    "        best_total_points = total_points\n",
    "        best_comb_cost = total_cost\n",
    "        optimal_midfielders = (player1, player2, player3, player4)\n",
    "\n",
    "# Unpack and print the results\n",
    "print(f\"Total points: {best_total_points}\")\n",
    "print(f\"Total cost: {best_comb_cost} \\n\")\n",
    "print(f\"Cost/point: {best_cpp} \\n\")\n",
    "\n",
    "for player in optimal_midfielders:\n",
    "    print(f\"Player: {player.first_name} {player.second_name} - {player.element_type} - Team Code: {player.team_code} - Total points: {player.total_points} - Cost: £{player.now_cost}m - Cost / points: {player.now_cost / player.total_points}m\")\n",
    "\n",
    "print(\"Player: Bryan Mbeumo - Midfielder - Team Code: 94 - Total points: 96 - Cost: £7.6m - Cost / points: 0.07916666666666666m\")\n",
    "\n"
   ]
  },
  {
   "cell_type": "code",
   "execution_count": 39,
   "id": "d4f3f2a3",
   "metadata": {},
   "outputs": [
    {
     "name": "stdout",
     "output_type": "stream",
     "text": [
      "    first_name             second_name  team_code element_type  total_points  \\\n",
      "0       Dwight                  McNeil         11   Midfielder            65   \n",
      "1        Bryan                  Mbeumo         94   Midfielder            96   \n",
      "2         Alex                   Iwobi         54   Midfielder            76   \n",
      "3       Justin                Kluivert         91   Midfielder            62   \n",
      "4       Mikkel               Damsgaard         94   Midfielder            58   \n",
      "..         ...                     ...        ...          ...           ...   \n",
      "224     Danilo  dos Santos de Oliveira         17   Midfielder             1   \n",
      "225     Jeremy       Sarmiento Morante         36   Midfielder             1   \n",
      "226     Samuel                  Edozie         20   Midfielder             1   \n",
      "227     Carlos           Alcaraz Durán         20   Midfielder             1   \n",
      "228   Federico                  Chiesa         14   Midfielder             1   \n",
      "\n",
      "     points_per_game  now_cost                      full_name  Cost/Points  \n",
      "0                5.0       5.4                  Dwight McNeil         0.08  \n",
      "1                6.4       7.6                   Bryan Mbeumo         0.08  \n",
      "2                5.1       5.7                     Alex Iwobi         0.08  \n",
      "3                4.1       5.5                Justin Kluivert         0.09  \n",
      "4                3.9       5.0               Mikkel Damsgaard         0.09  \n",
      "..               ...       ...                            ...          ...  \n",
      "224              1.0       4.7  Danilo dos Santos de Oliveira         4.70  \n",
      "225              1.0       4.9       Jeremy Sarmiento Morante         4.90  \n",
      "226              0.5       4.9                  Samuel Edozie         4.90  \n",
      "227              1.0       4.9           Carlos Alcaraz Durán         4.90  \n",
      "228              1.0       6.8                Federico Chiesa         6.80  \n",
      "\n",
      "[229 rows x 9 columns]\n"
     ]
    }
   ],
   "source": [
    "# Create a sorted copy of the DataFrame\n",
    "sorted_players = midfielders.sort_values(by='Cost/Points', ascending=True)\n",
    "sorted_players = sorted_players.reset_index(drop=True)\n",
    "\n",
    "# Display the sorted DataFrame\n",
    "print(sorted_players)\n"
   ]
  },
  {
   "cell_type": "code",
   "execution_count": 44,
   "id": "a7716a86",
   "metadata": {},
   "outputs": [
    {
     "name": "stdout",
     "output_type": "stream",
     "text": [
      "Total points: 551\n",
      "Total cost: £47.5m\n",
      "Cost/point: 0.09m\n",
      "\n",
      "Player: Bryan Mbeumo - Midfielder - Team Code: 94 - Total points: 96 - Cost: £7.6m - Cost / points: 0.0792m\n",
      "Player: Alex Iwobi - Midfielder - Team Code: 54 - Total points: 76 - Cost: £5.7m - Cost / points: 0.0750m\n",
      "Player: Cole Palmer - Midfielder - Team Code: 8 - Total points: 125 - Cost: £10.8m - Cost / points: 0.0864m\n",
      "Player: Mohamed Salah - Midfielder - Team Code: 14 - Total points: 151 - Cost: £13.0m - Cost / points: 0.0861m\n",
      "Player: Bukayo Saka - Midfielder - Team Code: 3 - Total points: 103 - Cost: £10.4m - Cost / points: 0.1010m\n"
     ]
    }
   ],
   "source": [
    "# Knapsack algorithm\n",
    "\n",
    "optimal_midfielders = list(sorted_players.head(5).index)\n",
    "best_total_points = 0\n",
    "best_comb_cost = 0\n",
    "best_cpp = 100\n",
    "max_cost = 48\n",
    "\n",
    "for idx, row in sorted_players.iterrows():\n",
    "    if idx not in optimal_midfielders:\n",
    "        min_points = 10000\n",
    "        min_points_player = None\n",
    "        # Find player with minimum total points\n",
    "        min_points_player = sorted_players.loc[optimal_midfielders, 'total_points'].idxmin()\n",
    "\n",
    "        if row['total_points'] > sorted_players.loc[min_points_player, 'total_points']:\n",
    "            worst_player_price = sorted_players.loc[min_points_player, 'now_cost']\n",
    "            curr_cost = sorted_players.loc[optimal_midfielders, 'now_cost'].sum() - worst_player_price\n",
    "            if curr_cost + row['now_cost'] <= max_cost:\n",
    "                # Replace the optimal player\n",
    "                optimal_midfielders.remove(min_points_player)\n",
    "                optimal_midfielders.append(idx)\n",
    "\n",
    "# Calculate team statistics\n",
    "best_total_points = sorted_players.loc[optimal_midfielders, 'total_points'].sum()\n",
    "best_comb_cost = sorted_players.loc[optimal_midfielders, 'now_cost'].sum()\n",
    "best_cpp = best_comb_cost / best_total_points\n",
    "\n",
    "# Print the team\n",
    "print(f\"Total points: {best_total_points}\")\n",
    "print(f\"Total cost: £{best_comb_cost}m\")\n",
    "print(f\"Cost/point: {best_cpp:.2f}m\\n\")\n",
    "\n",
    "for player_idx in optimal_midfielders:\n",
    "    player = sorted_players.loc[player_idx]\n",
    "    print(f\"Player: {player['first_name']} {player['second_name']} - {player['element_type']} - Team Code: {player['team_code']} - \"\n",
    "          f\"Total points: {player['total_points']} - Cost: £{player['now_cost']}m - Cost / points: {player['now_cost'] / player['total_points']:.4f}m\")\n"
   ]
  },
  {
   "cell_type": "code",
   "execution_count": null,
   "id": "6fb61f4d",
   "metadata": {},
   "outputs": [],
   "source": []
  }
 ],
 "metadata": {
  "interpreter": {
   "hash": "cf187eeb89af9fe6e5d94e2ab15d2b6b0f1556c135ded618a2bc561c30d23079"
  },
  "kernelspec": {
   "display_name": "Python (fpl)",
   "language": "python",
   "name": "python3"
  },
  "language_info": {
   "codemirror_mode": {
    "name": "ipython",
    "version": 3
   },
   "file_extension": ".py",
   "mimetype": "text/x-python",
   "name": "python",
   "nbconvert_exporter": "python",
   "pygments_lexer": "ipython3",
   "version": "3.9.9"
  }
 },
 "nbformat": 4,
 "nbformat_minor": 5
}
